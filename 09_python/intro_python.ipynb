{
  "cells": [
    {
      "cell_type": "markdown",
      "metadata": {
        "id": "q2eRjQCONuDm"
      },
      "source": [
        "# Introduction to Python\n",
        "\n",
        "[![Open In Colab](https://colab.research.google.com/assets/colab-badge.svg)](https://colab.research.google.com/github/UCL-DSPP-2425/ECON0128-lectures/blob/main/09_python/intro_python.ipynb)"
      ]
    },
    {
      "cell_type": "markdown",
      "metadata": {
        "id": "sjz99kjZAdoA"
      },
      "source": [
        "## Why Python?\n",
        "\n",
        "- Great implementations of machine learning methods\n",
        "  - [scikit-learn](https://scikit-learn.org/stable/): logistic regression, decision trees, clustering algorithms, and much more.\n",
        "  - [PyTorch](https://pytorch.org/), [Keras](https://keras.io), [JAX](https://jax.readthedocs.io/en/latest/notebooks/quickstart.html): building blocks for neural networks\n",
        "  - [HuggingFace](https://huggingface.co/): High-level abstractions to work with modern language models and computer vision models\n",
        "\n",
        "- Versatility\n",
        "- Support\n",
        "  - Large community of active users\n",
        "  - Modern generative language models can create useful fragments of code"
      ]
    },
    {
      "cell_type": "markdown",
      "metadata": {
        "id": "EtUEl1gh3KGn"
      },
      "source": [
        "## Variables and data types\n",
        "\n",
        "- Variables are created using the = sign\n",
        "- Basic data types in Python:\n",
        "  - Strings: ```\"Hi!\"```\n",
        "  - Integers: ```2```\n",
        "  - Floats: ```4.4```\n",
        "  - Booleans: ```True```"
      ]
    },
    {
      "cell_type": "code",
      "execution_count": null,
      "metadata": {
        "id": "oU4Ia1z5NnNV"
      },
      "outputs": [],
      "source": [
        "# defining variables in Python and exploring different data types\n",
        "my_variable = 2"
      ]
    },
    {
      "cell_type": "code",
      "execution_count": null,
      "metadata": {
        "id": "qNlgun-rF_S2"
      },
      "outputs": [],
      "source": [
        "my_string = \"Hi everyone!\"\n",
        "my_float = 2.4\n",
        "my_boolean = True"
      ]
    },
    {
      "cell_type": "code",
      "execution_count": null,
      "metadata": {
        "id": "Tm6HaKJnJBYb"
      },
      "outputs": [],
      "source": [
        "# operations with numbers\n",
        "2 + 2"
      ]
    },
    {
      "cell_type": "code",
      "execution_count": null,
      "metadata": {
        "id": "FJ19Re0IJZPc"
      },
      "outputs": [],
      "source": [
        "2*4"
      ]
    },
    {
      "cell_type": "code",
      "execution_count": null,
      "metadata": {
        "id": "gFKtRnJTJbCM"
      },
      "outputs": [],
      "source": [
        "2/2"
      ]
    },
    {
      "cell_type": "code",
      "execution_count": null,
      "metadata": {
        "id": "I_-RDt7NJchu"
      },
      "outputs": [],
      "source": [
        "2**8"
      ]
    },
    {
      "cell_type": "code",
      "execution_count": null,
      "metadata": {
        "id": "mlMkfJp2JgKO"
      },
      "outputs": [],
      "source": [
        "my_math_operation = (2+2) * 8"
      ]
    },
    {
      "cell_type": "code",
      "execution_count": null,
      "metadata": {
        "id": "C-BqwY7YJmo-"
      },
      "outputs": [],
      "source": [
        "my_math_operation"
      ]
    },
    {
      "cell_type": "code",
      "execution_count": null,
      "metadata": {
        "id": "VT7dDXR0JC36"
      },
      "outputs": [],
      "source": [
        "# operations with strings\n",
        "\"Hi\" + \" \" + \"everyone\" + \"!\""
      ]
    },
    {
      "cell_type": "code",
      "execution_count": null,
      "metadata": {
        "id": "O4W5AwjJKMMs"
      },
      "outputs": [],
      "source": [
        "\"Hi\"/\"everyone\""
      ]
    },
    {
      "cell_type": "code",
      "execution_count": null,
      "metadata": {
        "id": "fJAGpUbBKyZR"
      },
      "outputs": [],
      "source": [
        "False + False + True"
      ]
    },
    {
      "cell_type": "code",
      "execution_count": null,
      "metadata": {
        "id": "XZQygRLpK1wB"
      },
      "outputs": [],
      "source": [
        "True*False"
      ]
    },
    {
      "cell_type": "markdown",
      "metadata": {
        "id": "qcIheVep3KGr"
      },
      "source": [
        "## Lists\n",
        "\n",
        "- Basic object in Python to store multiple values together\n",
        "- Represented by square brackets ```[ ]```\n"
      ]
    },
    {
      "cell_type": "code",
      "execution_count": null,
      "metadata": {
        "id": "_JVzv-eE3eG2"
      },
      "outputs": [],
      "source": [
        "# create an empty list\n",
        "empty_list = []"
      ]
    },
    {
      "cell_type": "code",
      "execution_count": null,
      "metadata": {
        "id": "tQ8CHt-9L1Fi"
      },
      "outputs": [],
      "source": [
        "empty_list"
      ]
    },
    {
      "cell_type": "code",
      "execution_count": null,
      "metadata": {
        "id": "SaHZ277B3KGr"
      },
      "outputs": [],
      "source": [
        "# create lists\n",
        "integer_list = [2,3,4,5,6]"
      ]
    },
    {
      "cell_type": "code",
      "execution_count": null,
      "metadata": {
        "id": "TT64yYaLL_R1"
      },
      "outputs": [],
      "source": [
        "integer_list"
      ]
    },
    {
      "cell_type": "code",
      "execution_count": null,
      "metadata": {
        "id": "z104IvaOMDfz"
      },
      "outputs": [],
      "source": [
        "string_list = [\"john\", \"pedro\", \"juan\", \"nicolas\"]"
      ]
    },
    {
      "cell_type": "code",
      "execution_count": null,
      "metadata": {
        "id": "fykqhzymMLl8"
      },
      "outputs": [],
      "source": [
        "string_list"
      ]
    },
    {
      "cell_type": "code",
      "execution_count": null,
      "metadata": {
        "id": "oSxhMArZMNKk"
      },
      "outputs": [],
      "source": [
        "mixed_list = [2, 4.0, True, \"Hi\"]"
      ]
    },
    {
      "cell_type": "code",
      "execution_count": null,
      "metadata": {
        "id": "rS-xtrPI3KGs"
      },
      "outputs": [],
      "source": [
        "# get the first element of a list\n",
        "mixed_list[3]"
      ]
    },
    {
      "cell_type": "code",
      "execution_count": null,
      "metadata": {
        "id": "9fafOWbHNZnK"
      },
      "outputs": [],
      "source": [
        "mixed_list[-1]"
      ]
    },
    {
      "cell_type": "code",
      "execution_count": null,
      "metadata": {
        "id": "2FTaYKWM4B2N"
      },
      "outputs": [],
      "source": [
        "# change an element within a list\n",
        "mixed_list[0] = 10"
      ]
    },
    {
      "cell_type": "code",
      "execution_count": null,
      "metadata": {
        "id": "n7ETGSwsOo5m"
      },
      "outputs": [],
      "source": [
        "mixed_list[-1] = \"Hello\""
      ]
    },
    {
      "cell_type": "code",
      "execution_count": null,
      "metadata": {
        "id": "dFtK-rYoOvLb"
      },
      "outputs": [],
      "source": [
        "mixed_list"
      ]
    },
    {
      "cell_type": "code",
      "execution_count": null,
      "metadata": {
        "id": "R7VKnsr8PDg-"
      },
      "outputs": [],
      "source": [
        "# add elements to a list\n",
        "mixed_list + [4,6]"
      ]
    },
    {
      "cell_type": "code",
      "execution_count": null,
      "metadata": {
        "id": "d2-bVCWxPxyV"
      },
      "outputs": [],
      "source": [
        "my_new_list = mixed_list + [4,6]\n",
        "my_new_list"
      ]
    },
    {
      "cell_type": "code",
      "execution_count": null,
      "metadata": {
        "id": "vPd5i_0GPi-r"
      },
      "outputs": [],
      "source": [
        "# list of lists\n",
        "my_list_of_lists = [[1,2,3], [\"a\", \"b\", \"c\"], [True, False]]"
      ]
    },
    {
      "cell_type": "code",
      "execution_count": null,
      "metadata": {
        "id": "GmxWub6FQFW3"
      },
      "outputs": [],
      "source": [
        "my_list_of_lists"
      ]
    },
    {
      "cell_type": "markdown",
      "metadata": {
        "id": "KAA8Bjat3VxP"
      },
      "source": [
        "## Dictionaries\n",
        "\n",
        "- Represented by curly brackets ```{}```\n",
        "- Consists of a collection of key-value pairs. Each key-value pair maps the key to its associated value\n"
      ]
    },
    {
      "cell_type": "code",
      "execution_count": null,
      "metadata": {
        "id": "ywtJBE1k5plK"
      },
      "outputs": [],
      "source": [
        "# empty dictionary\n",
        "my_dictionary = {}"
      ]
    },
    {
      "cell_type": "code",
      "execution_count": null,
      "metadata": {
        "id": "D73cF8mhRanl"
      },
      "outputs": [],
      "source": [
        "my_dictionary"
      ]
    },
    {
      "cell_type": "code",
      "execution_count": null,
      "metadata": {
        "id": "F5t-IsHj3KGs"
      },
      "outputs": [],
      "source": [
        "# create a non-empty dictionary (groceries list)\n",
        "my_groceries = {\"bananas\": 10, \"apples\": 1, \"olive oil\": 1}"
      ]
    },
    {
      "cell_type": "code",
      "execution_count": null,
      "metadata": {
        "id": "D4VILEeGUKrD"
      },
      "outputs": [],
      "source": [
        "my_groceries"
      ]
    },
    {
      "cell_type": "code",
      "execution_count": null,
      "metadata": {
        "id": "Se4ZdRvWUopB"
      },
      "outputs": [],
      "source": [
        "# access elements of dictionaries\n",
        "my_groceries[\"bananas\"]"
      ]
    },
    {
      "cell_type": "code",
      "execution_count": null,
      "metadata": {
        "id": "MxZRaih8WF4m"
      },
      "outputs": [],
      "source": [
        "my_groceries[\"apples\"]"
      ]
    },
    {
      "cell_type": "code",
      "execution_count": null,
      "metadata": {
        "id": "dNGtfanGXQKv"
      },
      "outputs": [],
      "source": [
        "# create a dictionary with integers as keys\n",
        "my_numbers = {0: \"zero\", 1: \"one\", 2: \"two\"}"
      ]
    },
    {
      "cell_type": "code",
      "execution_count": null,
      "metadata": {
        "id": "J0KgpnzfYddK"
      },
      "outputs": [],
      "source": [
        "my_numbers"
      ]
    },
    {
      "cell_type": "code",
      "execution_count": null,
      "metadata": {
        "id": "95GLEqigYg3q"
      },
      "outputs": [],
      "source": [
        "my_numbers[2]"
      ]
    },
    {
      "cell_type": "code",
      "execution_count": null,
      "metadata": {
        "id": "I_S9nJlFXbSx"
      },
      "outputs": [],
      "source": [
        "# add new key-value pairs to dictionary\n",
        "my_numbers[10] = \"ten\""
      ]
    },
    {
      "cell_type": "code",
      "execution_count": null,
      "metadata": {
        "id": "xhXI3XrjZNyY"
      },
      "outputs": [],
      "source": [
        "my_numbers"
      ]
    },
    {
      "cell_type": "code",
      "execution_count": null,
      "metadata": {
        "id": "GjzQegP6ZSTR"
      },
      "outputs": [],
      "source": [
        "my_numbers[20] = \"twenty\"\n",
        "my_numbers"
      ]
    },
    {
      "cell_type": "code",
      "execution_count": null,
      "metadata": {
        "id": "fqIYdFMAaDSY"
      },
      "outputs": [],
      "source": [
        "# access all keys\n",
        "my_numbers.keys()"
      ]
    },
    {
      "cell_type": "code",
      "execution_count": null,
      "metadata": {
        "id": "_w0PAvioaC9A"
      },
      "outputs": [],
      "source": [
        "# access all values\n",
        "my_numbers.values()"
      ]
    },
    {
      "cell_type": "markdown",
      "metadata": {
        "id": "mF2YoLdf3KGt"
      },
      "source": [
        "## For loops and list comprehensions"
      ]
    },
    {
      "cell_type": "code",
      "execution_count": 1,
      "metadata": {
        "colab": {
          "base_uri": "https://localhost:8080/"
        },
        "id": "DYyVNMKh_fbl",
        "outputId": "b3b2dfa0-1f57-4844-97f2-7778848f0552"
      },
      "outputs": [
        {
          "output_type": "execute_result",
          "data": {
            "text/plain": [
              "[1, 2, 3, 4, 5]"
            ]
          },
          "metadata": {},
          "execution_count": 1
        }
      ],
      "source": [
        "# loop over elements of a list\n",
        "my_list = [1,2,3,4,5]\n",
        "my_list"
      ]
    },
    {
      "cell_type": "code",
      "execution_count": 2,
      "metadata": {
        "colab": {
          "base_uri": "https://localhost:8080/"
        },
        "id": "addlScsRBVok",
        "outputId": "700defb6-65c6-4c66-fe03-478cb7b80d81"
      },
      "outputs": [
        {
          "output_type": "stream",
          "name": "stdout",
          "text": [
            "1\n",
            "2\n",
            "3\n",
            "4\n",
            "5\n"
          ]
        }
      ],
      "source": [
        "for i in my_list:\n",
        "  print(i)"
      ]
    },
    {
      "cell_type": "code",
      "execution_count": 3,
      "metadata": {
        "colab": {
          "base_uri": "https://localhost:8080/"
        },
        "id": "6Pd0QVRtCXOu",
        "outputId": "e3b10300-188d-42e6-bd21-4c54c916a29c"
      },
      "outputs": [
        {
          "output_type": "stream",
          "name": "stdout",
          "text": [
            "1\n",
            "2\n",
            "3\n",
            "4\n",
            "5\n"
          ]
        }
      ],
      "source": [
        "for element in my_list:\n",
        "  print(element)"
      ]
    },
    {
      "cell_type": "code",
      "execution_count": 6,
      "metadata": {
        "id": "FoUYTJBfCdYO"
      },
      "outputs": [],
      "source": [
        "my_sum = 0\n",
        "for k in my_list:\n",
        "  #my_sum += k\n",
        "  my_sum = my_sum + k"
      ]
    },
    {
      "cell_type": "code",
      "execution_count": 7,
      "metadata": {
        "colab": {
          "base_uri": "https://localhost:8080/"
        },
        "id": "-Mz2B3WtCw0o",
        "outputId": "6534178e-0936-4516-ea1e-20b6028b72ee"
      },
      "outputs": [
        {
          "output_type": "execute_result",
          "data": {
            "text/plain": [
              "15"
            ]
          },
          "metadata": {},
          "execution_count": 7
        }
      ],
      "source": [
        "my_sum"
      ]
    },
    {
      "cell_type": "code",
      "execution_count": 9,
      "metadata": {
        "colab": {
          "base_uri": "https://localhost:8080/"
        },
        "id": "PoLmOHvE6dLF",
        "outputId": "5e0049ba-6252-46e8-aee3-e71289c41c43"
      },
      "outputs": [
        {
          "output_type": "stream",
          "name": "stdout",
          "text": [
            "1\n",
            "2\n",
            "3\n",
            "4\n",
            "5\n"
          ]
        }
      ],
      "source": [
        "# loop over a range\n",
        "for i in range(1, 6):\n",
        "  print(i)"
      ]
    },
    {
      "cell_type": "code",
      "execution_count": 8,
      "metadata": {
        "colab": {
          "base_uri": "https://localhost:8080/"
        },
        "id": "tCconc1R6Us5",
        "outputId": "1dd9bc14-da93-47cb-bc19-673b90273803"
      },
      "outputs": [
        {
          "output_type": "stream",
          "name": "stdout",
          "text": [
            "H\n",
            "e\n",
            "l\n",
            "l\n",
            "o\n",
            "!\n"
          ]
        }
      ],
      "source": [
        "# loop over a string\n",
        "my_string = \"Hello!\"\n",
        "for i in my_string:\n",
        "  print(i)"
      ]
    },
    {
      "cell_type": "code",
      "execution_count": null,
      "metadata": {
        "id": "o9V_z7-rEG7f"
      },
      "outputs": [],
      "source": [
        "for k in \"Hello!\":\n",
        "  print(k)"
      ]
    },
    {
      "cell_type": "code",
      "execution_count": null,
      "metadata": {
        "id": "Bn8uxk6AaFR7"
      },
      "outputs": [],
      "source": [
        "# for loop in one line\n",
        "for k in \"Hello!\": print(k)"
      ]
    },
    {
      "cell_type": "code",
      "execution_count": null,
      "metadata": {
        "id": "o8f3_R_Q6b1C"
      },
      "outputs": [],
      "source": [
        "# list comprehension\n",
        "my_list"
      ]
    },
    {
      "cell_type": "code",
      "execution_count": 12,
      "metadata": {
        "colab": {
          "base_uri": "https://localhost:8080/"
        },
        "id": "DqV_81RsFDGV",
        "outputId": "84e38adb-23dd-4d47-a741-d7283881b4b5"
      },
      "outputs": [
        {
          "output_type": "execute_result",
          "data": {
            "text/plain": [
              "[3, 4, 5, 6, 7]"
            ]
          },
          "metadata": {},
          "execution_count": 12
        }
      ],
      "source": [
        "[i + 2 for i in my_list] # every number in my_list plus 2"
      ]
    },
    {
      "cell_type": "code",
      "source": [
        "# question: take the list of string [\"A\",\"B\",\"C\"] and append to each one the string \"_test\"\n",
        "my_string_list = [\"A\",\"B\",\"C\"]\n",
        "for i in my_string_list:\n",
        "  print(my_string_list)\n",
        "# using a.append"
      ],
      "metadata": {
        "id": "MadtkOqkBheZ",
        "outputId": "cea83126-0d5e-4173-bdb6-bcd5f89b6f5e",
        "colab": {
          "base_uri": "https://localhost:8080/"
        }
      },
      "execution_count": 13,
      "outputs": [
        {
          "output_type": "stream",
          "name": "stdout",
          "text": [
            "['A', 'B', 'C']\n",
            "['A', 'B', 'C']\n",
            "['A', 'B', 'C']\n"
          ]
        }
      ]
    },
    {
      "cell_type": "code",
      "source": [],
      "metadata": {
        "id": "CPOeV0SVClbb",
        "outputId": "663dfe22-bf0b-484a-eda4-cf43d7e74814",
        "colab": {
          "base_uri": "https://localhost:8080/",
          "height": 108
        }
      },
      "execution_count": 14,
      "outputs": [
        {
          "output_type": "error",
          "ename": "SyntaxError",
          "evalue": "invalid character '：' (U+FF1A) (<ipython-input-14-e0f2bad3bbf5>, line 2)",
          "traceback": [
            "\u001b[0;36m  File \u001b[0;32m\"<ipython-input-14-e0f2bad3bbf5>\"\u001b[0;36m, line \u001b[0;32m2\u001b[0m\n\u001b[0;31m    for i in my_string_list：\u001b[0m\n\u001b[0m                           ^\u001b[0m\n\u001b[0;31mSyntaxError\u001b[0m\u001b[0;31m:\u001b[0m invalid character '：' (U+FF1A)\n"
          ]
        }
      ]
    },
    {
      "cell_type": "markdown",
      "source": [],
      "metadata": {
        "id": "Wv9MIBtdA23N"
      }
    },
    {
      "cell_type": "code",
      "source": [],
      "metadata": {
        "id": "y1-U7_U6AnMX",
        "outputId": "5fd30fd5-8f98-45ef-a798-94daccf102e0",
        "colab": {
          "base_uri": "https://localhost:8080/",
          "height": 216
        }
      },
      "execution_count": 11,
      "outputs": [
        {
          "output_type": "error",
          "ename": "IndexError",
          "evalue": "list assignment index out of range",
          "traceback": [
            "\u001b[0;31m---------------------------------------------------------------------------\u001b[0m",
            "\u001b[0;31mIndexError\u001b[0m                                Traceback (most recent call last)",
            "\u001b[0;32m<ipython-input-11-234ede582231>\u001b[0m in \u001b[0;36m<cell line: 2>\u001b[0;34m()\u001b[0m\n\u001b[1;32m      1\u001b[0m \u001b[0mnew_list\u001b[0m \u001b[0;34m=\u001b[0m \u001b[0;34m[\u001b[0m\u001b[0;34m]\u001b[0m\u001b[0;34m\u001b[0m\u001b[0;34m\u001b[0m\u001b[0m\n\u001b[1;32m      2\u001b[0m \u001b[0;32mfor\u001b[0m \u001b[0mj\u001b[0m\u001b[0;34m,\u001b[0m \u001b[0mi\u001b[0m \u001b[0;32min\u001b[0m \u001b[0menumerate\u001b[0m\u001b[0;34m(\u001b[0m\u001b[0mmy_list\u001b[0m\u001b[0;34m)\u001b[0m\u001b[0;34m:\u001b[0m \u001b[0;31m# j is text, i is the content\u001b[0m\u001b[0;34m\u001b[0m\u001b[0;34m\u001b[0m\u001b[0m\n\u001b[0;32m----> 3\u001b[0;31m   \u001b[0mnew_list\u001b[0m\u001b[0;34m[\u001b[0m\u001b[0mj\u001b[0m\u001b[0;34m]\u001b[0m \u001b[0;34m=\u001b[0m \u001b[0mi\u001b[0m\u001b[0;34m\u001b[0m\u001b[0;34m\u001b[0m\u001b[0m\n\u001b[0m\u001b[1;32m      4\u001b[0m   \u001b[0mprint\u001b[0m\u001b[0;34m(\u001b[0m\u001b[0mj\u001b[0m\u001b[0;34m)\u001b[0m\u001b[0;34m\u001b[0m\u001b[0;34m\u001b[0m\u001b[0m\n\u001b[1;32m      5\u001b[0m   \u001b[0mprint\u001b[0m\u001b[0;34m(\u001b[0m\u001b[0mi\u001b[0m\u001b[0;34m)\u001b[0m\u001b[0;34m\u001b[0m\u001b[0;34m\u001b[0m\u001b[0m\n",
            "\u001b[0;31mIndexError\u001b[0m: list assignment index out of range"
          ]
        }
      ]
    },
    {
      "cell_type": "markdown",
      "metadata": {
        "id": "BBpKY7ONyB_u"
      },
      "source": [
        "## Conditional statements\n",
        "\n",
        "- We can use the ```if``` statement in Python to check if a logical condition is true\n",
        "- Python supports basic logical operations such as:\n",
        "    - Equal: ``` == ```\n",
        "    - Not equal: ``` != ```\n",
        "    - Greater than: ``` > ```\n",
        "    - Smaller than: ``` < ```\n",
        "- After an ```if``` statement we can also use ```elif``` (i.e. else + if) and ```else``` to specify what happens when none of the logical conditions are true"
      ]
    },
    {
      "cell_type": "code",
      "execution_count": 15,
      "metadata": {
        "colab": {
          "base_uri": "https://localhost:8080/"
        },
        "id": "YCuBmlbDyB_v",
        "outputId": "b595de69-85aa-40c2-bb68-61d731894829"
      },
      "outputs": [
        {
          "output_type": "stream",
          "name": "stdout",
          "text": [
            "Yeeees!\n"
          ]
        }
      ],
      "source": [
        "# basic if statement\n",
        "if 2 > 1:\n",
        "  print(\"Yeeees!\")"
      ]
    },
    {
      "cell_type": "code",
      "execution_count": 16,
      "metadata": {
        "id": "zzXFQq6ULtdR"
      },
      "outputs": [],
      "source": [
        "if \"Hello\" == \"Helo\":\n",
        "  print(\"They are the same\")"
      ]
    },
    {
      "cell_type": "code",
      "execution_count": 17,
      "metadata": {
        "colab": {
          "base_uri": "https://localhost:8080/"
        },
        "id": "8osTaACQL2Dj",
        "outputId": "593b814f-b1a5-4a01-9cbc-96dca8cc1bf1"
      },
      "outputs": [
        {
          "output_type": "stream",
          "name": "stdout",
          "text": [
            "They are not the same\n"
          ]
        }
      ],
      "source": [
        "if \"Hello\" != \"Helo\":\n",
        "  print(\"They are not the same\")"
      ]
    },
    {
      "cell_type": "code",
      "execution_count": null,
      "metadata": {
        "id": "0QGh7SJcMN-d"
      },
      "outputs": [],
      "source": [
        "a = 10\n",
        "b = 20\n",
        "\n",
        "if a < b:\n",
        "  print(\"a is smaller than b\")"
      ]
    },
    {
      "cell_type": "code",
      "execution_count": null,
      "metadata": {
        "id": "80KB5IPkyB_v"
      },
      "outputs": [],
      "source": [
        "# if + else statement\n",
        "if a == b:\n",
        "  print(\"They are equal\")\n",
        "else:\n",
        "  print(\"They are not equal\")"
      ]
    },
    {
      "cell_type": "code",
      "execution_count": null,
      "metadata": {
        "id": "aj7Q6tdCNgSw"
      },
      "outputs": [],
      "source": [
        "if a > b:\n",
        "  print(\"a greater than b\")\n",
        "else:\n",
        "  print(\"a is not greater than b\")"
      ]
    },
    {
      "cell_type": "code",
      "execution_count": null,
      "metadata": {
        "id": "wuw5H0C2yB_v"
      },
      "outputs": [],
      "source": [
        "# if + elif + else statement\n",
        "if a > b:\n",
        "  print(\"a greater than b\")\n",
        "elif a == b:\n",
        "  print(\"a equal to b\")\n",
        "else:\n",
        "  print(\"a not greater and not equal to b\")"
      ]
    },
    {
      "cell_type": "markdown",
      "metadata": {
        "id": "Fk9NXtxXyB_v"
      },
      "source": [
        "## Functions\n",
        "\n",
        "- A function is a re-usable block of code that performs one or multiple operations. Functions usually take inputs and return outputs.\n",
        "- Python has a set of basic pre-built functions. [Here](https://www.w3schools.com/python/python_ref_functions.asp) is a full list but some of the most used are:\n",
        "  - ```print( )```\n",
        "  - ```len( )```\n",
        "  - ```abs( )```, ```max( )```, ```min( )```\n",
        "  - ```range( )``` <br><br>\n",
        "\n",
        "- Additional functions can be brought to Python by importing packages\n",
        "- Functions can also be defined by the user using the ``` def my_function():``` syntax"
      ]
    },
    {
      "cell_type": "code",
      "execution_count": 18,
      "metadata": {
        "colab": {
          "base_uri": "https://localhost:8080/"
        },
        "id": "KvNRE6gFyB_w",
        "outputId": "4b3318b3-125d-4af6-8ded-b71224ed1f5b"
      },
      "outputs": [
        {
          "output_type": "stream",
          "name": "stdout",
          "text": [
            "Something!\n"
          ]
        }
      ],
      "source": [
        "# example of pre-built functions\n",
        "print(\"Something!\")"
      ]
    },
    {
      "cell_type": "code",
      "execution_count": 19,
      "metadata": {
        "colab": {
          "base_uri": "https://localhost:8080/"
        },
        "id": "ZH8yNx-ZXx0r",
        "outputId": "c541cbf4-52ff-460a-be9a-4514774cdf92"
      },
      "outputs": [
        {
          "output_type": "execute_result",
          "data": {
            "text/plain": [
              "4"
            ]
          },
          "metadata": {},
          "execution_count": 19
        }
      ],
      "source": [
        "len([1,2,3,4])"
      ]
    },
    {
      "cell_type": "code",
      "execution_count": 20,
      "metadata": {
        "colab": {
          "base_uri": "https://localhost:8080/"
        },
        "id": "leymkjY1X520",
        "outputId": "3f65e586-f377-46b9-9772-fd3643e534e1"
      },
      "outputs": [
        {
          "output_type": "execute_result",
          "data": {
            "text/plain": [
              "10"
            ]
          },
          "metadata": {},
          "execution_count": 20
        }
      ],
      "source": [
        "len(\"Something!\")"
      ]
    },
    {
      "cell_type": "code",
      "execution_count": 21,
      "metadata": {
        "colab": {
          "base_uri": "https://localhost:8080/",
          "height": 144
        },
        "id": "l0xT3n9hYhBb",
        "outputId": "7fa1a3dc-ea4b-44f1-d329-d7f8a20bd96c"
      },
      "outputs": [
        {
          "output_type": "error",
          "ename": "TypeError",
          "evalue": "len() takes exactly one argument (0 given)",
          "traceback": [
            "\u001b[0;31m---------------------------------------------------------------------------\u001b[0m",
            "\u001b[0;31mTypeError\u001b[0m                                 Traceback (most recent call last)",
            "\u001b[0;32m<ipython-input-21-adf3103c7c3e>\u001b[0m in \u001b[0;36m<cell line: 1>\u001b[0;34m()\u001b[0m\n\u001b[0;32m----> 1\u001b[0;31m \u001b[0mlen\u001b[0m\u001b[0;34m(\u001b[0m\u001b[0;34m)\u001b[0m\u001b[0;34m\u001b[0m\u001b[0;34m\u001b[0m\u001b[0m\n\u001b[0m",
            "\u001b[0;31mTypeError\u001b[0m: len() takes exactly one argument (0 given)"
          ]
        }
      ],
      "source": [
        "len()"
      ]
    },
    {
      "cell_type": "code",
      "execution_count": 22,
      "metadata": {
        "colab": {
          "base_uri": "https://localhost:8080/"
        },
        "id": "HNqtV8asYljc",
        "outputId": "ee8326e1-068b-4c26-8a9f-0edbc734972c"
      },
      "outputs": [
        {
          "output_type": "execute_result",
          "data": {
            "text/plain": [
              "10"
            ]
          },
          "metadata": {},
          "execution_count": 22
        }
      ],
      "source": [
        "abs(-10) # absolute value"
      ]
    },
    {
      "cell_type": "code",
      "execution_count": 23,
      "metadata": {
        "colab": {
          "base_uri": "https://localhost:8080/"
        },
        "id": "UrOOfwiMYpcC",
        "outputId": "574e3bc7-e2a4-458a-c272-e6ea5d3babcf"
      },
      "outputs": [
        {
          "output_type": "execute_result",
          "data": {
            "text/plain": [
              "300"
            ]
          },
          "metadata": {},
          "execution_count": 23
        }
      ],
      "source": [
        "max([10,200,5,300])"
      ]
    },
    {
      "cell_type": "code",
      "source": [
        "max('ABDO') # print the last order in alphabet"
      ],
      "metadata": {
        "id": "KwAwyciPFVog",
        "outputId": "49003e54-2f24-4bc7-bb5d-a006ca57e954",
        "colab": {
          "base_uri": "https://localhost:8080/",
          "height": 35
        }
      },
      "execution_count": 29,
      "outputs": [
        {
          "output_type": "execute_result",
          "data": {
            "text/plain": [
              "'O'"
            ],
            "application/vnd.google.colaboratory.intrinsic+json": {
              "type": "string"
            }
          },
          "metadata": {},
          "execution_count": 29
        }
      ]
    },
    {
      "cell_type": "code",
      "execution_count": 24,
      "metadata": {
        "colab": {
          "base_uri": "https://localhost:8080/"
        },
        "id": "6Z4T7-l3yB_w",
        "outputId": "4daba564-a20c-47e6-f59e-07564519e5f4"
      },
      "outputs": [
        {
          "output_type": "execute_result",
          "data": {
            "text/plain": [
              "{'bananas': 10, 'apples': 20}"
            ]
          },
          "metadata": {},
          "execution_count": 24
        }
      ],
      "source": [
        "# functions from objects\n",
        "my_dictionary = {\"bananas\": 10, \"apples\": 20}\n",
        "my_dictionary"
      ]
    },
    {
      "cell_type": "code",
      "execution_count": 30,
      "metadata": {
        "colab": {
          "base_uri": "https://localhost:8080/"
        },
        "id": "AF2hwLhyZ9DI",
        "outputId": "419400e2-373b-4185-bbd8-342f7a1651de"
      },
      "outputs": [
        {
          "output_type": "execute_result",
          "data": {
            "text/plain": [
              "dict_keys(['bananas', 'apples'])"
            ]
          },
          "metadata": {},
          "execution_count": 30
        }
      ],
      "source": [
        "my_dictionary.keys()"
      ]
    },
    {
      "cell_type": "code",
      "execution_count": 31,
      "metadata": {
        "colab": {
          "base_uri": "https://localhost:8080/"
        },
        "id": "6dUCgOILaJPn",
        "outputId": "191b691b-7867-4926-fa7f-d852c36e93ff"
      },
      "outputs": [
        {
          "output_type": "execute_result",
          "data": {
            "text/plain": [
              "dict_values([10, 20])"
            ]
          },
          "metadata": {},
          "execution_count": 31
        }
      ],
      "source": [
        "my_dictionary.values()"
      ]
    },
    {
      "cell_type": "code",
      "execution_count": 32,
      "metadata": {
        "colab": {
          "base_uri": "https://localhost:8080/",
          "height": 35
        },
        "id": "dgMKSPiUaVPJ",
        "outputId": "080d1996-81de-417f-d59f-03e6420d3f32"
      },
      "outputs": [
        {
          "output_type": "execute_result",
          "data": {
            "text/plain": [
              "'HELLO!'"
            ],
            "application/vnd.google.colaboratory.intrinsic+json": {
              "type": "string"
            }
          },
          "metadata": {},
          "execution_count": 32
        }
      ],
      "source": [
        "my_string = \"HELLO!\"\n",
        "my_string"
      ]
    },
    {
      "cell_type": "code",
      "execution_count": 33,
      "metadata": {
        "colab": {
          "base_uri": "https://localhost:8080/",
          "height": 35
        },
        "id": "pSqKRJ_4aYJS",
        "outputId": "5897e58a-5966-4c19-c5c5-1ee72dece846"
      },
      "outputs": [
        {
          "output_type": "execute_result",
          "data": {
            "text/plain": [
              "'hello!'"
            ],
            "application/vnd.google.colaboratory.intrinsic+json": {
              "type": "string"
            }
          },
          "metadata": {},
          "execution_count": 33
        }
      ],
      "source": [
        "my_string.lower() # characters in lower case"
      ]
    },
    {
      "cell_type": "code",
      "execution_count": 34,
      "metadata": {
        "colab": {
          "base_uri": "https://localhost:8080/"
        },
        "id": "EysAuDzqaecT",
        "outputId": "c334268b-6ce8-4357-b0f9-a2dee515ee58"
      },
      "outputs": [
        {
          "output_type": "execute_result",
          "data": {
            "text/plain": [
              "['Hello', 'world', '!']"
            ]
          },
          "metadata": {},
          "execution_count": 34
        }
      ],
      "source": [
        "my_string = \"Hello world !\"\n",
        "my_string.split()"
      ]
    },
    {
      "cell_type": "code",
      "execution_count": 35,
      "metadata": {
        "id": "dlwmaEeKyB_w"
      },
      "outputs": [],
      "source": [
        "# define my own function\n",
        "def my_function(x):\n",
        "  result = x*2\n",
        "  return result"
      ]
    },
    {
      "cell_type": "code",
      "execution_count": 36,
      "metadata": {
        "colab": {
          "base_uri": "https://localhost:8080/"
        },
        "id": "AnR-EbKKfm5L",
        "outputId": "03d0c523-444d-43d4-aacd-bc4064f55038"
      },
      "outputs": [
        {
          "output_type": "execute_result",
          "data": {
            "text/plain": [
              "20"
            ]
          },
          "metadata": {},
          "execution_count": 36
        }
      ],
      "source": [
        "my_function(10)"
      ]
    },
    {
      "cell_type": "code",
      "source": [
        "# piping\n",
        "string = \"Stephen Hansen\"\n",
        "print(string.lower())\n",
        "string_lc = string.lower()\n",
        "string_split = string_lc.split # .is piping which means attach a function\n",
        "print(string_split)"
      ],
      "metadata": {
        "id": "jY5XFFeuGTui",
        "outputId": "29f8ceff-f485-4fb9-a7fa-4f6fff426486",
        "colab": {
          "base_uri": "https://localhost:8080/"
        }
      },
      "execution_count": 40,
      "outputs": [
        {
          "output_type": "stream",
          "name": "stdout",
          "text": [
            "stephen hansen\n",
            "<built-in method split of str object at 0x78cece499470>\n"
          ]
        }
      ]
    }
  ],
  "metadata": {
    "colab": {
      "provenance": []
    },
    "kernelspec": {
      "display_name": "Python 3",
      "name": "python3"
    },
    "language_info": {
      "codemirror_mode": {
        "name": "ipython",
        "version": 3
      },
      "file_extension": ".py",
      "mimetype": "text/x-python",
      "name": "python",
      "nbconvert_exporter": "python",
      "pygments_lexer": "ipython3",
      "version": "3.10.2"
    }
  },
  "nbformat": 4,
  "nbformat_minor": 0
}